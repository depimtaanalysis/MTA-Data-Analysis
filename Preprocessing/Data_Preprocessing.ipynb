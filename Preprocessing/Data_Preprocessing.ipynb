{
 "cells": [
  {
   "cell_type": "markdown",
   "metadata": {},
   "source": [
    "# **MTA Ridership Data Analysis**\n",
    "This notebook analyzes the daily ridership data of the MTA, applies Winsorization to handle outliers, and explores trends over different time periods: Pre-Pandemic, Pandemic, Recovery, and Post-Pandemic."
   ]
  },
  {
   "cell_type": "markdown",
   "metadata": {},
   "source": [
    "## **Importing libraries & dataset**"
   ]
  },
  {
   "cell_type": "code",
   "execution_count": null,
   "metadata": {},
   "outputs": [],
   "source": [
    "import pandas as pd\n",
    "import numpy as np\n",
    "from scipy.stats.mstats import winsorize\n",
    "import matplotlib.pyplot as plt\n",
    "import seaborn as sns\n",
    "from scipy import stats\n",
    "from statsmodels.tsa.seasonal import seasonal_decompose\n"
   ]
  },
  {
   "cell_type": "code",
   "execution_count": null,
   "metadata": {},
   "outputs": [],
   "source": [
    "file_path = \"MTA_Daily_Ridership.csv\"\n",
    "df = pd.read_csv(file_path)\n",
    "df['Date'] = pd.to_datetime(df['Date'])\n"
   ]
  },
  {
   "cell_type": "markdown",
   "metadata": {},
   "source": [
    "## **Exploratory Data Analysis (EDA)**\n",
    "To better understand the dataset, we perform various EDA techniques:\n",
    "\n",
    "- **Summary Statistics**: Overview of numerical features.\n",
    "- **Missing Values Check**: Identify missing data.\n",
    "- **Correlation Heatmap**: Understand relationships between numerical variables.\n",
    "- **Boxplots**: Visualize outliers and distributions.\n",
    "- **Time Series Trends**: Examine ridership patterns over time."
   ]
  },
  {
   "cell_type": "markdown",
   "metadata": {},
   "source": [
    "### Data summary"
   ]
  },
  {
   "cell_type": "code",
   "execution_count": null,
   "metadata": {},
   "outputs": [],
   "source": [
    "print(df.head())"
   ]
  },
  {
   "cell_type": "code",
   "execution_count": null,
   "metadata": {},
   "outputs": [],
   "source": [
    "print(df.info())"
   ]
  },
  {
   "cell_type": "code",
   "execution_count": null,
   "metadata": {},
   "outputs": [],
   "source": [
    "print(df.dtypes)"
   ]
  },
  {
   "cell_type": "code",
   "execution_count": null,
   "metadata": {},
   "outputs": [],
   "source": [
    "print(df.describe())"
   ]
  },
  {
   "cell_type": "code",
   "execution_count": null,
   "metadata": {},
   "outputs": [],
   "source": [
    "print(df.isnull().sum())"
   ]
  },
  {
   "cell_type": "markdown",
   "metadata": {},
   "source": [
    "### Outliers visualisation"
   ]
  },
  {
   "cell_type": "code",
   "execution_count": null,
   "metadata": {},
   "outputs": [],
   "source": [
    "\n",
    "df_box = df.copy()\n",
    "if 'Date' in df_box.columns:\n",
    "    df_box = df_box.drop('Date', axis=1)\n",
    "\n",
    "box_color = '#1f77b4'  # Blue\n",
    "median_color = '#ff7f0e'  # Orange\n",
    "\n",
    "for column in df_box.columns:\n",
    "    plt.figure(figsize=(6, 4))\n",
    "    box = plt.boxplot(df_box[column].dropna(), \n",
    "                      patch_artist=True, \n",
    "                      labels=[column])\n",
    "\n",
    "    for patch in box['boxes']:\n",
    "        patch.set(facecolor=box_color, alpha=0.5)\n",
    "\n",
    "    for median in box['medians']:\n",
    "        median.set(color=median_color, linewidth=2)\n",
    "\n",
    "    plt.title(f'Box Plot – Outlier Visualization: {column}', fontsize=12, fontweight='bold')\n",
    "    plt.ylabel('Values')\n",
    "    plt.grid(True, alpha=0.3)\n",
    "    plt.tight_layout()\n",
    "    plt.show()\n"
   ]
  },
  {
   "cell_type": "markdown",
   "metadata": {},
   "source": [
    "## **Data cleaning**"
   ]
  },
  {
   "cell_type": "code",
   "execution_count": null,
   "metadata": {},
   "outputs": [],
   "source": [
    "def winsorize_outliers(df, limits=(0.05, 0.05)): \n",
    "    for column in df.select_dtypes(include=['float64', 'int64']).columns:\n",
    "        df[column] = winsorize(df[column], limits=limits)\n",
    "    return df"
   ]
  },
  {
   "cell_type": "code",
   "execution_count": null,
   "metadata": {},
   "outputs": [],
   "source": [
    "\n",
    "pre_lockdown = (df['Date'] >= '2020-03-01') & (df['Date'] < '2020-03-22')\n",
    "lockdown = (df['Date'] >= '2020-03-22') & (df['Date'] < '2021-06-08')\n",
    "recovery = (df['Date'] >= '2021-06-08') & (df['Date'] < '2021-09-13')\n",
    "post_lockdown = (df['Date'] >= '2021-09-13') & (df['Date'] < '2024-10-31')\n",
    "\n",
    "df_pre_lockdown = df[pre_lockdown]\n",
    "df_lockdown = df[lockdown]\n",
    "df_recovery = df[recovery]\n",
    "df_post_lockdown = df[post_lockdown]"
   ]
  },
  {
   "cell_type": "code",
   "execution_count": null,
   "metadata": {},
   "outputs": [],
   "source": [
    "winsorize_outliers (df_pre_lockdown)\n",
    "winsorize_outliers (df_lockdown)\n",
    "winsorize_outliers (df_recovery)\n",
    "winsorize_outliers (df_post_lockdown)"
   ]
  },
  {
   "cell_type": "code",
   "execution_count": null,
   "metadata": {},
   "outputs": [],
   "source": [
    "df_merged = pd.concat([df_pre_lockdown, df_lockdown, df_recovery, df_post_lockdown], ignore_index=True)"
   ]
  },
  {
   "cell_type": "code",
   "execution_count": null,
   "metadata": {},
   "outputs": [],
   "source": [
    "# df_merged.to_csv('MTA-Ridership.csv', index=False, date_format='%Y-%m-%d')"
   ]
  }
 ],
 "metadata": {
  "kernelspec": {
   "display_name": "Python 3",
   "language": "python",
   "name": "python3"
  },
  "language_info": {
   "codemirror_mode": {
    "name": "ipython",
    "version": 3
   },
   "file_extension": ".py",
   "mimetype": "text/x-python",
   "name": "python",
   "nbconvert_exporter": "python",
   "pygments_lexer": "ipython3",
   "version": "3.13.0"
  }
 },
 "nbformat": 4,
 "nbformat_minor": 4
}
